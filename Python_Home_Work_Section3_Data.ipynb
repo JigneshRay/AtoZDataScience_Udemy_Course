{
 "cells": [
  {
   "cell_type": "code",
   "execution_count": 39,
   "metadata": {},
   "outputs": [
    {
     "name": "stdout",
     "output_type": "stream",
     "text": [
      "[1765.87, 1337.97, -2595.45, -2040.02, -419.94, 5085.67, 5747.39, 2761.48, 2329.87, -1567.06, 461.72, 8140.68]\n",
      "[12.11617010269313, 17.589916991609762, -30.13966353942037, -22.23355686557876, -5.211046515235182, 62.743910262737124, 49.99347615054609, 28.276208800041776, 22.608419728839085, -10.89752683595782, 4.309513653668995, 52.7468169890174]\n",
      "1750.6816666666666\n",
      "[1765.87, 5085.67, 5747.39, 2761.48, 2329.87, 8140.68]\n",
      "[1337.97, -2595.45, -2040.02, -419.94, -1567.06, 461.72]\n",
      "best month is 8140.68\n",
      "worst month is 1765.87\n"
     ]
    }
   ],
   "source": [
    "#Data \n",
    "revenue = [14574.49, 7606.46, 8611.41, 9175.41, 8058.65, 8105.44, 11496.28, 9766.09, 10305.32, 14379.96, 10713.97, 15433.50]\n",
    "expenses = [12051.82, 5695.07, 12319.20, 12089.72, 8658.57, 840.20, 3285.73, 5821.12, 6976.93, 16618.61, 10054.37, 3803.96]\n",
    "\n",
    "Profit_Monthly = []\n",
    "Profit_Margin =[]\n",
    "Good_Months =[]\n",
    "bad_months = []\n",
    "\n",
    "#Profit for each month\n",
    "for x in range(0,len(revenue)):\n",
    "   Profit_Monthly.append(revenue[x] - expenses[x])\n",
    "\n",
    "\n",
    "\n",
    "#profit after tax of 30%\n",
    "for x in range(0,len(Profit_Monthly)):\n",
    "    Profit_Monthly[x] = round(Profit_Monthly[x] * 0.7,2)\n",
    "\n",
    "print(Profit_Monthly)\n",
    "#Profit margin - Profit after tax divide by revenue\n",
    "for x in range(0,len(Profit_Monthly)):\n",
    "    Profit_Margin.append((Profit_Monthly[x]/revenue[x]) *100)\n",
    "\n",
    "print(Profit_Margin)\n",
    "\n",
    "#Good months - Profit after tax was greater than mean of the year\n",
    "Profit_Mean = sum(Profit_Monthly)/len(Profit_Monthly)\n",
    "print(Profit_Mean)\n",
    "\n",
    "for x in range(0,len(Profit_Monthly)):\n",
    "    if Profit_Monthly[x] > Profit_Mean:\n",
    "        Good_Months.append(Profit_Monthly[x])\n",
    "    else:\n",
    "        bad_months.append(Profit_Monthly[x])\n",
    "        \n",
    "\n",
    "print(Good_Months)\n",
    "print(bad_months)\n",
    "print(f\"best month is {max(Good_Months)}\") \n",
    "print(f\"worst month is {min(Good_Months)}\") \n"
   ]
  },
  {
   "cell_type": "code",
   "execution_count": 36,
   "metadata": {},
   "outputs": [
    {
     "data": {
      "text/plain": [
       "[12.11617010269313,\n",
       " 17.589916991609762,\n",
       " -30.13966353942037,\n",
       " -22.23355686557876,\n",
       " -5.211046515235182,\n",
       " 62.743910262737124,\n",
       " 49.99347615054609,\n",
       " 28.276208800041776,\n",
       " 22.608419728839085,\n",
       " -10.89752683595782,\n",
       " 4.309513653668995,\n",
       " 52.7468169890174]"
      ]
     },
     "execution_count": 36,
     "metadata": {},
     "output_type": "execute_result"
    }
   ],
   "source": [
    "Profit_Monthly\n",
    "Profit_Margin"
   ]
  },
  {
   "cell_type": "code",
   "execution_count": null,
   "metadata": {},
   "outputs": [],
   "source": []
  },
  {
   "cell_type": "code",
   "execution_count": null,
   "metadata": {},
   "outputs": [],
   "source": []
  }
 ],
 "metadata": {
  "kernelspec": {
   "display_name": "Python 3",
   "language": "python",
   "name": "python3"
  },
  "language_info": {
   "codemirror_mode": {
    "name": "ipython",
    "version": 3
   },
   "file_extension": ".py",
   "mimetype": "text/x-python",
   "name": "python",
   "nbconvert_exporter": "python",
   "pygments_lexer": "ipython3",
   "version": "3.8.5"
  }
 },
 "nbformat": 4,
 "nbformat_minor": 1
}
